{
 "cells": [
  {
   "cell_type": "code",
   "execution_count": 101,
   "metadata": {},
   "outputs": [],
   "source": [
    "import pandas as pd\n",
    "import pgmpy\n",
    "from pgmpy.models import BayesianNetwork\n",
    "from pgmpy.factors.discrete import TabularCPD\n",
    "from pgmpy.inference import VariableElimination\n",
    "from pgmpy.sampling import BayesianModelSampling\n",
    "from pgmpy.factors.discrete import State\n",
    "import matplotlib.pyplot as plt\n",
    "import networkx as nx\n",
    "import pylab as plt\n",
    "import itertools\n",
    "import numpy as np\n",
    "import warnings\n",
    "warnings.filterwarnings('ignore')"
   ]
  },
  {
   "cell_type": "code",
   "execution_count": 74,
   "metadata": {},
   "outputs": [
    {
     "data": {
      "text/html": [
       "<div>\n",
       "<style scoped>\n",
       "    .dataframe tbody tr th:only-of-type {\n",
       "        vertical-align: middle;\n",
       "    }\n",
       "\n",
       "    .dataframe tbody tr th {\n",
       "        vertical-align: top;\n",
       "    }\n",
       "\n",
       "    .dataframe thead th {\n",
       "        text-align: right;\n",
       "    }\n",
       "</style>\n",
       "<table border=\"1\" class=\"dataframe\">\n",
       "  <thead>\n",
       "    <tr style=\"text-align: right;\">\n",
       "      <th></th>\n",
       "      <th>cnt</th>\n",
       "      <th>hum</th>\n",
       "      <th>is_holiday</th>\n",
       "      <th>is_weekend</th>\n",
       "      <th>season</th>\n",
       "      <th>time</th>\n",
       "      <th>weather</th>\n",
       "      <th>wind</th>\n",
       "      <th>temperature</th>\n",
       "      <th>temperature_feels</th>\n",
       "    </tr>\n",
       "  </thead>\n",
       "  <tbody>\n",
       "    <tr>\n",
       "      <th>7</th>\n",
       "      <td>75</td>\n",
       "      <td>100.0</td>\n",
       "      <td>no</td>\n",
       "      <td>yes</td>\n",
       "      <td>winter</td>\n",
       "      <td>7</td>\n",
       "      <td>cloudy</td>\n",
       "      <td>7.0</td>\n",
       "      <td>1.0</td>\n",
       "      <td>-1.0</td>\n",
       "    </tr>\n",
       "    <tr>\n",
       "      <th>8</th>\n",
       "      <td>131</td>\n",
       "      <td>96.5</td>\n",
       "      <td>no</td>\n",
       "      <td>yes</td>\n",
       "      <td>winter</td>\n",
       "      <td>8</td>\n",
       "      <td>cloudy</td>\n",
       "      <td>8.0</td>\n",
       "      <td>1.5</td>\n",
       "      <td>-1.0</td>\n",
       "    </tr>\n",
       "    <tr>\n",
       "      <th>9</th>\n",
       "      <td>301</td>\n",
       "      <td>100.0</td>\n",
       "      <td>no</td>\n",
       "      <td>yes</td>\n",
       "      <td>winter</td>\n",
       "      <td>9</td>\n",
       "      <td>broken_clouds</td>\n",
       "      <td>9.0</td>\n",
       "      <td>2.0</td>\n",
       "      <td>-0.5</td>\n",
       "    </tr>\n",
       "    <tr>\n",
       "      <th>10</th>\n",
       "      <td>528</td>\n",
       "      <td>93.0</td>\n",
       "      <td>no</td>\n",
       "      <td>yes</td>\n",
       "      <td>winter</td>\n",
       "      <td>10</td>\n",
       "      <td>broken_clouds</td>\n",
       "      <td>12.0</td>\n",
       "      <td>3.0</td>\n",
       "      <td>-0.5</td>\n",
       "    </tr>\n",
       "    <tr>\n",
       "      <th>11</th>\n",
       "      <td>727</td>\n",
       "      <td>100.0</td>\n",
       "      <td>no</td>\n",
       "      <td>yes</td>\n",
       "      <td>winter</td>\n",
       "      <td>11</td>\n",
       "      <td>broken_clouds</td>\n",
       "      <td>12.0</td>\n",
       "      <td>2.0</td>\n",
       "      <td>-1.5</td>\n",
       "    </tr>\n",
       "  </tbody>\n",
       "</table>\n",
       "</div>"
      ],
      "text/plain": [
       "    cnt    hum is_holiday is_weekend  season  time        weather  wind  \\\n",
       "7    75  100.0         no        yes  winter     7         cloudy   7.0   \n",
       "8   131   96.5         no        yes  winter     8         cloudy   8.0   \n",
       "9   301  100.0         no        yes  winter     9  broken_clouds   9.0   \n",
       "10  528   93.0         no        yes  winter    10  broken_clouds  12.0   \n",
       "11  727  100.0         no        yes  winter    11  broken_clouds  12.0   \n",
       "\n",
       "    temperature  temperature_feels  \n",
       "7           1.0               -1.0  \n",
       "8           1.5               -1.0  \n",
       "9           2.0               -0.5  \n",
       "10          3.0               -0.5  \n",
       "11          2.0               -1.5  "
      ]
     },
     "execution_count": 74,
     "metadata": {},
     "output_type": "execute_result"
    }
   ],
   "source": [
    "data = pd.read_csv(\"./london_merged.csv\")\n",
    "data[\"time\"] = pd.to_datetime(data[\"timestamp\"]).dt.time.astype(str).str.slice(0,2).astype(int)\n",
    "data = data.drop(\"timestamp\", axis = 1)\n",
    "\n",
    "# data = data[data['cnt'] < 5000]\n",
    "data = data[data['time'] > 6]\n",
    "\n",
    "data['is_weekend'] = data['is_weekend'].map({1: \"yes\", 0: \"no\"})\n",
    "data['is_holiday'] = data['is_holiday'].map({1: \"yes\", 0: \"no\"})\n",
    "data['weather'] = data['weather_code'].map({\n",
    "    1: \"clear\", \n",
    "    2: \"few_clouds\", \n",
    "    3: \"broken_clouds\", \n",
    "    4: \"cloudy\", \n",
    "    7: \"rain\", \n",
    "    10: \"thunderstorm\",\n",
    "    26: \"snowfall\",\n",
    "    94: \"freezing_fog\"\n",
    "})\n",
    "data['season'] = data['season'].map({\n",
    "    0: \"spring\",\n",
    "    1: \"summer\",\n",
    "    2: \"fall\",\n",
    "    3: \"winter\"\n",
    "})\n",
    "data[\"wind\"] = data['wind_speed']\n",
    "data = data.drop('wind_speed', axis = 1)\n",
    "data[\"temperature\"] = data[\"t1\"]\n",
    "data = data.drop(\"t1\", axis = 1)\n",
    "data[\"temperature_feels\"] = data[\"t2\"]\n",
    "data = data.drop(\"t2\", axis = 1)\n",
    "data = data.drop(\"weather_code\", axis = 1)\n",
    "\n",
    "data.head()\n"
   ]
  },
  {
   "cell_type": "code",
   "execution_count": 75,
   "metadata": {},
   "outputs": [],
   "source": [
    "\n",
    "data['temperature'] = pd.cut(data['temperature'], bins=4, labels=[0, 1, 2, 3])\n",
    "data['temperature_feels'] = pd.cut(data['temperature_feels'], bins=4, labels=[0, 1, 2, 3])\n",
    "data['time'] = pd.cut(data['time'], bins=4, labels=[\"morning\", \"afternoon\", \"evening\", \"night\"])\n",
    "data['hum'] = pd.cut(data['hum'], bins=4, labels=[0, 1, 2, 3])\n",
    "data['wind'] = pd.cut(data['wind'], bins=2, labels=[\"yes\", \"no\"])\n",
    "data['cnt'] = pd.qcut(data['cnt'], q=8, labels=[0, 1, 2, 3, 4, 5, 6, 7])"
   ]
  },
  {
   "cell_type": "code",
   "execution_count": 76,
   "metadata": {},
   "outputs": [
    {
     "data": {
      "text/plain": [
       "[0, 1, 2, 3]\n",
       "Categories (4, int64): [0 < 1 < 2 < 3]"
      ]
     },
     "execution_count": 76,
     "metadata": {},
     "output_type": "execute_result"
    }
   ],
   "source": [
    "data[\"temperature_feels\"].unique()"
   ]
  },
  {
   "cell_type": "code",
   "execution_count": 110,
   "metadata": {},
   "outputs": [
    {
     "ename": "StopIteration",
     "evalue": "",
     "output_type": "error",
     "traceback": [
      "\u001b[1;31m---------------------------------------------------------------------------\u001b[0m",
      "\u001b[1;31mStopIteration\u001b[0m                             Traceback (most recent call last)",
      "\u001b[1;32mc:\\Users\\micmi\\Documents\\Università\\UniBo\\FAIKR\\faikr-m3-project\\main.ipynb Cell 5'\u001b[0m in \u001b[0;36m<cell line: 17>\u001b[1;34m()\u001b[0m\n\u001b[0;32m     <a href='vscode-notebook-cell:/c%3A/Users/micmi/Documents/Universit%C3%A0/UniBo/FAIKR/faikr-m3-project/main.ipynb#ch0000004?line=13'>14</a>\u001b[0m network\u001b[39m.\u001b[39madd_edge(\u001b[39m\"\u001b[39m\u001b[39mtime\u001b[39m\u001b[39m\"\u001b[39m, \u001b[39m\"\u001b[39m\u001b[39mcnt\u001b[39m\u001b[39m\"\u001b[39m)\n\u001b[0;32m     <a href='vscode-notebook-cell:/c%3A/Users/micmi/Documents/Universit%C3%A0/UniBo/FAIKR/faikr-m3-project/main.ipynb#ch0000004?line=14'>15</a>\u001b[0m network\u001b[39m.\u001b[39madd_edge(\u001b[39m\"\u001b[39m\u001b[39mtemperature_feels\u001b[39m\u001b[39m\"\u001b[39m, \u001b[39m\"\u001b[39m\u001b[39mcnt\u001b[39m\u001b[39m\"\u001b[39m)\n\u001b[1;32m---> <a href='vscode-notebook-cell:/c%3A/Users/micmi/Documents/Universit%C3%A0/UniBo/FAIKR/faikr-m3-project/main.ipynb#ch0000004?line=16'>17</a>\u001b[0m nx\u001b[39m.\u001b[39;49mdraw(network, with_labels\u001b[39m=\u001b[39;49m\u001b[39mTrue\u001b[39;49;00m)\n\u001b[0;32m     <a href='vscode-notebook-cell:/c%3A/Users/micmi/Documents/Universit%C3%A0/UniBo/FAIKR/faikr-m3-project/main.ipynb#ch0000004?line=17'>18</a>\u001b[0m plt\u001b[39m.\u001b[39mshow()\n",
      "File \u001b[1;32m~\\miniconda3\\lib\\site-packages\\networkx\\drawing\\nx_pylab.py:120\u001b[0m, in \u001b[0;36mdraw\u001b[1;34m(G, pos, ax, **kwds)\u001b[0m\n\u001b[0;32m    <a href='file:///c%3A/Users/micmi/miniconda3/lib/site-packages/networkx/drawing/nx_pylab.py?line=116'>117</a>\u001b[0m \u001b[39mif\u001b[39;00m \u001b[39m\"\u001b[39m\u001b[39mwith_labels\u001b[39m\u001b[39m\"\u001b[39m \u001b[39mnot\u001b[39;00m \u001b[39min\u001b[39;00m kwds:\n\u001b[0;32m    <a href='file:///c%3A/Users/micmi/miniconda3/lib/site-packages/networkx/drawing/nx_pylab.py?line=117'>118</a>\u001b[0m     kwds[\u001b[39m\"\u001b[39m\u001b[39mwith_labels\u001b[39m\u001b[39m\"\u001b[39m] \u001b[39m=\u001b[39m \u001b[39m\"\u001b[39m\u001b[39mlabels\u001b[39m\u001b[39m\"\u001b[39m \u001b[39min\u001b[39;00m kwds\n\u001b[1;32m--> <a href='file:///c%3A/Users/micmi/miniconda3/lib/site-packages/networkx/drawing/nx_pylab.py?line=119'>120</a>\u001b[0m draw_networkx(G, pos\u001b[39m=\u001b[39mpos, ax\u001b[39m=\u001b[39max, \u001b[39m*\u001b[39m\u001b[39m*\u001b[39mkwds)\n\u001b[0;32m    <a href='file:///c%3A/Users/micmi/miniconda3/lib/site-packages/networkx/drawing/nx_pylab.py?line=120'>121</a>\u001b[0m ax\u001b[39m.\u001b[39mset_axis_off()\n\u001b[0;32m    <a href='file:///c%3A/Users/micmi/miniconda3/lib/site-packages/networkx/drawing/nx_pylab.py?line=121'>122</a>\u001b[0m plt\u001b[39m.\u001b[39mdraw_if_interactive()\n",
      "File \u001b[1;32m~\\miniconda3\\lib\\site-packages\\networkx\\drawing\\nx_pylab.py:334\u001b[0m, in \u001b[0;36mdraw_networkx\u001b[1;34m(G, pos, arrows, with_labels, **kwds)\u001b[0m\n\u001b[0;32m    <a href='file:///c%3A/Users/micmi/miniconda3/lib/site-packages/networkx/drawing/nx_pylab.py?line=330'>331</a>\u001b[0m     pos \u001b[39m=\u001b[39m nx\u001b[39m.\u001b[39mdrawing\u001b[39m.\u001b[39mspring_layout(G)  \u001b[39m# default to spring layout\u001b[39;00m\n\u001b[0;32m    <a href='file:///c%3A/Users/micmi/miniconda3/lib/site-packages/networkx/drawing/nx_pylab.py?line=332'>333</a>\u001b[0m draw_networkx_nodes(G, pos, \u001b[39m*\u001b[39m\u001b[39m*\u001b[39mnode_kwds)\n\u001b[1;32m--> <a href='file:///c%3A/Users/micmi/miniconda3/lib/site-packages/networkx/drawing/nx_pylab.py?line=333'>334</a>\u001b[0m draw_networkx_edges(G, pos, arrows\u001b[39m=\u001b[39marrows, \u001b[39m*\u001b[39m\u001b[39m*\u001b[39medge_kwds)\n\u001b[0;32m    <a href='file:///c%3A/Users/micmi/miniconda3/lib/site-packages/networkx/drawing/nx_pylab.py?line=334'>335</a>\u001b[0m \u001b[39mif\u001b[39;00m with_labels:\n\u001b[0;32m    <a href='file:///c%3A/Users/micmi/miniconda3/lib/site-packages/networkx/drawing/nx_pylab.py?line=335'>336</a>\u001b[0m     draw_networkx_labels(G, pos, \u001b[39m*\u001b[39m\u001b[39m*\u001b[39mlabel_kwds)\n",
      "File \u001b[1;32m~\\miniconda3\\lib\\site-packages\\networkx\\drawing\\nx_pylab.py:889\u001b[0m, in \u001b[0;36mdraw_networkx_edges\u001b[1;34m(G, pos, edgelist, width, edge_color, style, alpha, arrowstyle, arrowsize, edge_cmap, edge_vmin, edge_vmax, ax, arrows, label, node_size, nodelist, node_shape, connectionstyle, min_source_margin, min_target_margin)\u001b[0m\n\u001b[0;32m    <a href='file:///c%3A/Users/micmi/miniconda3/lib/site-packages/networkx/drawing/nx_pylab.py?line=886'>887</a>\u001b[0m         _draw_networkx_edges_fancy_arrow_patch()\n\u001b[0;32m    <a href='file:///c%3A/Users/micmi/miniconda3/lib/site-packages/networkx/drawing/nx_pylab.py?line=887'>888</a>\u001b[0m \u001b[39melse\u001b[39;00m:\n\u001b[1;32m--> <a href='file:///c%3A/Users/micmi/miniconda3/lib/site-packages/networkx/drawing/nx_pylab.py?line=888'>889</a>\u001b[0m     edge_viz_obj \u001b[39m=\u001b[39m _draw_networkx_edges_fancy_arrow_patch()\n\u001b[0;32m    <a href='file:///c%3A/Users/micmi/miniconda3/lib/site-packages/networkx/drawing/nx_pylab.py?line=890'>891</a>\u001b[0m \u001b[39m# update view after drawing\u001b[39;00m\n\u001b[0;32m    <a href='file:///c%3A/Users/micmi/miniconda3/lib/site-packages/networkx/drawing/nx_pylab.py?line=891'>892</a>\u001b[0m padx, pady \u001b[39m=\u001b[39m \u001b[39m0.05\u001b[39m \u001b[39m*\u001b[39m w, \u001b[39m0.05\u001b[39m \u001b[39m*\u001b[39m h\n",
      "File \u001b[1;32m~\\miniconda3\\lib\\site-packages\\networkx\\drawing\\nx_pylab.py:867\u001b[0m, in \u001b[0;36mdraw_networkx_edges.<locals>._draw_networkx_edges_fancy_arrow_patch\u001b[1;34m()\u001b[0m\n\u001b[0;32m    <a href='file:///c%3A/Users/micmi/miniconda3/lib/site-packages/networkx/drawing/nx_pylab.py?line=851'>852</a>\u001b[0m     arrow \u001b[39m=\u001b[39m mpl\u001b[39m.\u001b[39mpatches\u001b[39m.\u001b[39mFancyArrowPatch(\n\u001b[0;32m    <a href='file:///c%3A/Users/micmi/miniconda3/lib/site-packages/networkx/drawing/nx_pylab.py?line=852'>853</a>\u001b[0m         (x1, y1),\n\u001b[0;32m    <a href='file:///c%3A/Users/micmi/miniconda3/lib/site-packages/networkx/drawing/nx_pylab.py?line=853'>854</a>\u001b[0m         (x2, y2),\n\u001b[1;32m   (...)\u001b[0m\n\u001b[0;32m    <a href='file:///c%3A/Users/micmi/miniconda3/lib/site-packages/networkx/drawing/nx_pylab.py?line=862'>863</a>\u001b[0m         zorder\u001b[39m=\u001b[39m\u001b[39m1\u001b[39m,\n\u001b[0;32m    <a href='file:///c%3A/Users/micmi/miniconda3/lib/site-packages/networkx/drawing/nx_pylab.py?line=863'>864</a>\u001b[0m     )  \u001b[39m# arrows go behind nodes\u001b[39;00m\n\u001b[0;32m    <a href='file:///c%3A/Users/micmi/miniconda3/lib/site-packages/networkx/drawing/nx_pylab.py?line=865'>866</a>\u001b[0m     arrow_collection\u001b[39m.\u001b[39mappend(arrow)\n\u001b[1;32m--> <a href='file:///c%3A/Users/micmi/miniconda3/lib/site-packages/networkx/drawing/nx_pylab.py?line=866'>867</a>\u001b[0m     ax\u001b[39m.\u001b[39;49madd_patch(arrow)\n\u001b[0;32m    <a href='file:///c%3A/Users/micmi/miniconda3/lib/site-packages/networkx/drawing/nx_pylab.py?line=868'>869</a>\u001b[0m \u001b[39mreturn\u001b[39;00m arrow_collection\n",
      "File \u001b[1;32m~\\miniconda3\\lib\\site-packages\\matplotlib\\axes\\_base.py:2358\u001b[0m, in \u001b[0;36m_AxesBase.add_patch\u001b[1;34m(self, p)\u001b[0m\n\u001b[0;32m   <a href='file:///c%3A/Users/micmi/miniconda3/lib/site-packages/matplotlib/axes/_base.py?line=2355'>2356</a>\u001b[0m \u001b[39mif\u001b[39;00m p\u001b[39m.\u001b[39mget_clip_path() \u001b[39mis\u001b[39;00m \u001b[39mNone\u001b[39;00m:\n\u001b[0;32m   <a href='file:///c%3A/Users/micmi/miniconda3/lib/site-packages/matplotlib/axes/_base.py?line=2356'>2357</a>\u001b[0m     p\u001b[39m.\u001b[39mset_clip_path(\u001b[39mself\u001b[39m\u001b[39m.\u001b[39mpatch)\n\u001b[1;32m-> <a href='file:///c%3A/Users/micmi/miniconda3/lib/site-packages/matplotlib/axes/_base.py?line=2357'>2358</a>\u001b[0m \u001b[39mself\u001b[39;49m\u001b[39m.\u001b[39;49m_update_patch_limits(p)\n\u001b[0;32m   <a href='file:///c%3A/Users/micmi/miniconda3/lib/site-packages/matplotlib/axes/_base.py?line=2358'>2359</a>\u001b[0m \u001b[39mself\u001b[39m\u001b[39m.\u001b[39m_children\u001b[39m.\u001b[39mappend(p)\n\u001b[0;32m   <a href='file:///c%3A/Users/micmi/miniconda3/lib/site-packages/matplotlib/axes/_base.py?line=2359'>2360</a>\u001b[0m p\u001b[39m.\u001b[39m_remove_method \u001b[39m=\u001b[39m \u001b[39mself\u001b[39m\u001b[39m.\u001b[39m_children\u001b[39m.\u001b[39mremove\n",
      "File \u001b[1;32m~\\miniconda3\\lib\\site-packages\\matplotlib\\axes\\_base.py:2376\u001b[0m, in \u001b[0;36m_AxesBase._update_patch_limits\u001b[1;34m(self, patch)\u001b[0m\n\u001b[0;32m   <a href='file:///c%3A/Users/micmi/miniconda3/lib/site-packages/matplotlib/axes/_base.py?line=2372'>2373</a>\u001b[0m \u001b[39mif\u001b[39;00m (\u001b[39misinstance\u001b[39m(patch, mpatches\u001b[39m.\u001b[39mRectangle) \u001b[39mand\u001b[39;00m\n\u001b[0;32m   <a href='file:///c%3A/Users/micmi/miniconda3/lib/site-packages/matplotlib/axes/_base.py?line=2373'>2374</a>\u001b[0m         ((\u001b[39mnot\u001b[39;00m patch\u001b[39m.\u001b[39mget_width()) \u001b[39mand\u001b[39;00m (\u001b[39mnot\u001b[39;00m patch\u001b[39m.\u001b[39mget_height()))):\n\u001b[0;32m   <a href='file:///c%3A/Users/micmi/miniconda3/lib/site-packages/matplotlib/axes/_base.py?line=2374'>2375</a>\u001b[0m     \u001b[39mreturn\u001b[39;00m\n\u001b[1;32m-> <a href='file:///c%3A/Users/micmi/miniconda3/lib/site-packages/matplotlib/axes/_base.py?line=2375'>2376</a>\u001b[0m p \u001b[39m=\u001b[39m patch\u001b[39m.\u001b[39;49mget_path()\n\u001b[0;32m   <a href='file:///c%3A/Users/micmi/miniconda3/lib/site-packages/matplotlib/axes/_base.py?line=2376'>2377</a>\u001b[0m vertices \u001b[39m=\u001b[39m p\u001b[39m.\u001b[39mvertices \u001b[39mif\u001b[39;00m p\u001b[39m.\u001b[39mcodes \u001b[39mis\u001b[39;00m \u001b[39mNone\u001b[39;00m \u001b[39melse\u001b[39;00m p\u001b[39m.\u001b[39mvertices[np\u001b[39m.\u001b[39misin(\n\u001b[0;32m   <a href='file:///c%3A/Users/micmi/miniconda3/lib/site-packages/matplotlib/axes/_base.py?line=2377'>2378</a>\u001b[0m     p\u001b[39m.\u001b[39mcodes, (mpath\u001b[39m.\u001b[39mPath\u001b[39m.\u001b[39mCLOSEPOLY, mpath\u001b[39m.\u001b[39mPath\u001b[39m.\u001b[39mSTOP), invert\u001b[39m=\u001b[39m\u001b[39mTrue\u001b[39;00m)]\n\u001b[0;32m   <a href='file:///c%3A/Users/micmi/miniconda3/lib/site-packages/matplotlib/axes/_base.py?line=2378'>2379</a>\u001b[0m \u001b[39mif\u001b[39;00m \u001b[39mnot\u001b[39;00m vertices\u001b[39m.\u001b[39msize:\n",
      "File \u001b[1;32m~\\miniconda3\\lib\\site-packages\\matplotlib\\patches.py:4440\u001b[0m, in \u001b[0;36mFancyArrowPatch.get_path\u001b[1;34m(self)\u001b[0m\n\u001b[0;32m   <a href='file:///c%3A/Users/micmi/miniconda3/lib/site-packages/matplotlib/patches.py?line=4436'>4437</a>\u001b[0m \u001b[39m\"\"\"Return the path of the arrow in the data coordinates.\"\"\"\u001b[39;00m\n\u001b[0;32m   <a href='file:///c%3A/Users/micmi/miniconda3/lib/site-packages/matplotlib/patches.py?line=4437'>4438</a>\u001b[0m \u001b[39m# The path is generated in display coordinates, then converted back to\u001b[39;00m\n\u001b[0;32m   <a href='file:///c%3A/Users/micmi/miniconda3/lib/site-packages/matplotlib/patches.py?line=4438'>4439</a>\u001b[0m \u001b[39m# data coordinates.\u001b[39;00m\n\u001b[1;32m-> <a href='file:///c%3A/Users/micmi/miniconda3/lib/site-packages/matplotlib/patches.py?line=4439'>4440</a>\u001b[0m _path, fillable \u001b[39m=\u001b[39m \u001b[39mself\u001b[39;49m\u001b[39m.\u001b[39;49m_get_path_in_displaycoord()\n\u001b[0;32m   <a href='file:///c%3A/Users/micmi/miniconda3/lib/site-packages/matplotlib/patches.py?line=4440'>4441</a>\u001b[0m \u001b[39mif\u001b[39;00m np\u001b[39m.\u001b[39miterable(fillable):\n\u001b[0;32m   <a href='file:///c%3A/Users/micmi/miniconda3/lib/site-packages/matplotlib/patches.py?line=4441'>4442</a>\u001b[0m     _path \u001b[39m=\u001b[39m Path\u001b[39m.\u001b[39mmake_compound_path(\u001b[39m*\u001b[39m_path)\n",
      "File \u001b[1;32m~\\miniconda3\\lib\\site-packages\\matplotlib\\patches.py:4453\u001b[0m, in \u001b[0;36mFancyArrowPatch._get_path_in_displaycoord\u001b[1;34m(self)\u001b[0m\n\u001b[0;32m   <a href='file:///c%3A/Users/micmi/miniconda3/lib/site-packages/matplotlib/patches.py?line=4450'>4451</a>\u001b[0m     posB \u001b[39m=\u001b[39m \u001b[39mself\u001b[39m\u001b[39m.\u001b[39m_convert_xy_units(\u001b[39mself\u001b[39m\u001b[39m.\u001b[39m_posA_posB[\u001b[39m1\u001b[39m])\n\u001b[0;32m   <a href='file:///c%3A/Users/micmi/miniconda3/lib/site-packages/matplotlib/patches.py?line=4451'>4452</a>\u001b[0m     (posA, posB) \u001b[39m=\u001b[39m \u001b[39mself\u001b[39m\u001b[39m.\u001b[39mget_transform()\u001b[39m.\u001b[39mtransform((posA, posB))\n\u001b[1;32m-> <a href='file:///c%3A/Users/micmi/miniconda3/lib/site-packages/matplotlib/patches.py?line=4452'>4453</a>\u001b[0m     _path \u001b[39m=\u001b[39m \u001b[39mself\u001b[39;49m\u001b[39m.\u001b[39;49mget_connectionstyle()(posA, posB,\n\u001b[0;32m   <a href='file:///c%3A/Users/micmi/miniconda3/lib/site-packages/matplotlib/patches.py?line=4453'>4454</a>\u001b[0m                                        patchA\u001b[39m=\u001b[39;49m\u001b[39mself\u001b[39;49m\u001b[39m.\u001b[39;49mpatchA,\n\u001b[0;32m   <a href='file:///c%3A/Users/micmi/miniconda3/lib/site-packages/matplotlib/patches.py?line=4454'>4455</a>\u001b[0m                                        patchB\u001b[39m=\u001b[39;49m\u001b[39mself\u001b[39;49m\u001b[39m.\u001b[39;49mpatchB,\n\u001b[0;32m   <a href='file:///c%3A/Users/micmi/miniconda3/lib/site-packages/matplotlib/patches.py?line=4455'>4456</a>\u001b[0m                                        shrinkA\u001b[39m=\u001b[39;49m\u001b[39mself\u001b[39;49m\u001b[39m.\u001b[39;49mshrinkA \u001b[39m*\u001b[39;49m dpi_cor,\n\u001b[0;32m   <a href='file:///c%3A/Users/micmi/miniconda3/lib/site-packages/matplotlib/patches.py?line=4456'>4457</a>\u001b[0m                                        shrinkB\u001b[39m=\u001b[39;49m\u001b[39mself\u001b[39;49m\u001b[39m.\u001b[39;49mshrinkB \u001b[39m*\u001b[39;49m dpi_cor\n\u001b[0;32m   <a href='file:///c%3A/Users/micmi/miniconda3/lib/site-packages/matplotlib/patches.py?line=4457'>4458</a>\u001b[0m                                        )\n\u001b[0;32m   <a href='file:///c%3A/Users/micmi/miniconda3/lib/site-packages/matplotlib/patches.py?line=4458'>4459</a>\u001b[0m \u001b[39melse\u001b[39;00m:\n\u001b[0;32m   <a href='file:///c%3A/Users/micmi/miniconda3/lib/site-packages/matplotlib/patches.py?line=4459'>4460</a>\u001b[0m     _path \u001b[39m=\u001b[39m \u001b[39mself\u001b[39m\u001b[39m.\u001b[39mget_transform()\u001b[39m.\u001b[39mtransform_path(\u001b[39mself\u001b[39m\u001b[39m.\u001b[39m_path_original)\n",
      "File \u001b[1;32m~\\miniconda3\\lib\\site-packages\\networkx\\drawing\\nx_pylab.py:794\u001b[0m, in \u001b[0;36mdraw_networkx_edges.<locals>._draw_networkx_edges_fancy_arrow_patch.<locals>._connectionstyle\u001b[1;34m(posA, posB, *args, **kwargs)\u001b[0m\n\u001b[0;32m    <a href='file:///c%3A/Users/micmi/miniconda3/lib/site-packages/networkx/drawing/nx_pylab.py?line=790'>791</a>\u001b[0m     ret \u001b[39m=\u001b[39m mpl\u001b[39m.\u001b[39mpath\u001b[39m.\u001b[39mPath(ax\u001b[39m.\u001b[39mtransData\u001b[39m.\u001b[39mtransform(path), [\u001b[39m1\u001b[39m, \u001b[39m4\u001b[39m, \u001b[39m4\u001b[39m, \u001b[39m4\u001b[39m, \u001b[39m4\u001b[39m, \u001b[39m4\u001b[39m, \u001b[39m4\u001b[39m])\n\u001b[0;32m    <a href='file:///c%3A/Users/micmi/miniconda3/lib/site-packages/networkx/drawing/nx_pylab.py?line=791'>792</a>\u001b[0m \u001b[39m# if not, fall back to the user specified behavior\u001b[39;00m\n\u001b[0;32m    <a href='file:///c%3A/Users/micmi/miniconda3/lib/site-packages/networkx/drawing/nx_pylab.py?line=792'>793</a>\u001b[0m \u001b[39melse\u001b[39;00m:\n\u001b[1;32m--> <a href='file:///c%3A/Users/micmi/miniconda3/lib/site-packages/networkx/drawing/nx_pylab.py?line=793'>794</a>\u001b[0m     ret \u001b[39m=\u001b[39m base_connection_style(posA, posB, \u001b[39m*\u001b[39margs, \u001b[39m*\u001b[39m\u001b[39m*\u001b[39mkwargs)\n\u001b[0;32m    <a href='file:///c%3A/Users/micmi/miniconda3/lib/site-packages/networkx/drawing/nx_pylab.py?line=795'>796</a>\u001b[0m \u001b[39mreturn\u001b[39;00m ret\n",
      "File \u001b[1;32m~\\miniconda3\\lib\\site-packages\\matplotlib\\patches.py:2771\u001b[0m, in \u001b[0;36mConnectionStyle._Base.__call__\u001b[1;34m(self, posA, posB, shrinkA, shrinkB, patchA, patchB)\u001b[0m\n\u001b[0;32m   <a href='file:///c%3A/Users/micmi/miniconda3/lib/site-packages/matplotlib/patches.py?line=2768'>2769</a>\u001b[0m path \u001b[39m=\u001b[39m \u001b[39mself\u001b[39m\u001b[39m.\u001b[39mconnect(posA, posB)\n\u001b[0;32m   <a href='file:///c%3A/Users/micmi/miniconda3/lib/site-packages/matplotlib/patches.py?line=2769'>2770</a>\u001b[0m clipped_path \u001b[39m=\u001b[39m \u001b[39mself\u001b[39m\u001b[39m.\u001b[39m_clip(path, patchA, patchB)\n\u001b[1;32m-> <a href='file:///c%3A/Users/micmi/miniconda3/lib/site-packages/matplotlib/patches.py?line=2770'>2771</a>\u001b[0m shrunk_path \u001b[39m=\u001b[39m \u001b[39mself\u001b[39;49m\u001b[39m.\u001b[39;49m_shrink(clipped_path, shrinkA, shrinkB)\n\u001b[0;32m   <a href='file:///c%3A/Users/micmi/miniconda3/lib/site-packages/matplotlib/patches.py?line=2771'>2772</a>\u001b[0m \u001b[39mreturn\u001b[39;00m shrunk_path\n",
      "File \u001b[1;32m~\\miniconda3\\lib\\site-packages\\matplotlib\\patches.py:2752\u001b[0m, in \u001b[0;36mConnectionStyle._Base._shrink\u001b[1;34m(self, path, shrinkA, shrinkB)\u001b[0m\n\u001b[0;32m   <a href='file:///c%3A/Users/micmi/miniconda3/lib/site-packages/matplotlib/patches.py?line=2749'>2750</a>\u001b[0m insideA \u001b[39m=\u001b[39m inside_circle(\u001b[39m*\u001b[39mpath\u001b[39m.\u001b[39mvertices[\u001b[39m0\u001b[39m], shrinkA)\n\u001b[0;32m   <a href='file:///c%3A/Users/micmi/miniconda3/lib/site-packages/matplotlib/patches.py?line=2750'>2751</a>\u001b[0m \u001b[39mtry\u001b[39;00m:\n\u001b[1;32m-> <a href='file:///c%3A/Users/micmi/miniconda3/lib/site-packages/matplotlib/patches.py?line=2751'>2752</a>\u001b[0m     left, path \u001b[39m=\u001b[39m split_path_inout(path, insideA)\n\u001b[0;32m   <a href='file:///c%3A/Users/micmi/miniconda3/lib/site-packages/matplotlib/patches.py?line=2752'>2753</a>\u001b[0m \u001b[39mexcept\u001b[39;00m \u001b[39mValueError\u001b[39;00m:\n\u001b[0;32m   <a href='file:///c%3A/Users/micmi/miniconda3/lib/site-packages/matplotlib/patches.py?line=2753'>2754</a>\u001b[0m     \u001b[39mpass\u001b[39;00m\n",
      "File \u001b[1;32m~\\miniconda3\\lib\\site-packages\\matplotlib\\bezier.py:352\u001b[0m, in \u001b[0;36msplit_path_inout\u001b[1;34m(path, inside, tolerance, reorder_inout)\u001b[0m\n\u001b[0;32m    <a href='file:///c%3A/Users/micmi/miniconda3/lib/site-packages/matplotlib/bezier.py?line=348'>349</a>\u001b[0m \u001b[39mfrom\u001b[39;00m \u001b[39m.\u001b[39;00m\u001b[39mpath\u001b[39;00m \u001b[39mimport\u001b[39;00m Path\n\u001b[0;32m    <a href='file:///c%3A/Users/micmi/miniconda3/lib/site-packages/matplotlib/bezier.py?line=349'>350</a>\u001b[0m path_iter \u001b[39m=\u001b[39m path\u001b[39m.\u001b[39miter_segments()\n\u001b[1;32m--> <a href='file:///c%3A/Users/micmi/miniconda3/lib/site-packages/matplotlib/bezier.py?line=351'>352</a>\u001b[0m ctl_points, command \u001b[39m=\u001b[39m \u001b[39mnext\u001b[39;49m(path_iter)\n\u001b[0;32m    <a href='file:///c%3A/Users/micmi/miniconda3/lib/site-packages/matplotlib/bezier.py?line=352'>353</a>\u001b[0m begin_inside \u001b[39m=\u001b[39m inside(ctl_points[\u001b[39m-\u001b[39m\u001b[39m2\u001b[39m:])  \u001b[39m# true if begin point is inside\u001b[39;00m\n\u001b[0;32m    <a href='file:///c%3A/Users/micmi/miniconda3/lib/site-packages/matplotlib/bezier.py?line=354'>355</a>\u001b[0m ctl_points_old \u001b[39m=\u001b[39m ctl_points\n",
      "\u001b[1;31mStopIteration\u001b[0m: "
     ]
    },
    {
     "data": {
      "image/png": "[encoded data removed]",
      "text/plain": [
       "<Figure size 432x288 with 1 Axes>"
      ]
     },
     "metadata": {},
     "output_type": "display_data"
    }
   ],
   "source": [
    "network = BayesianNetwork()\n",
    "network.add_nodes_from([\"cnt\", \"temperature\", \"wind\", \"weather\", \"is_weekend\", \"season\", \"time\", \"temperature_feels\", \"hum\", \"is_holiday\"])\n",
    "\n",
    "network.add_edge(\"season\", \"weather\")\n",
    "network.add_edge(\"time\", \"temperature\")\n",
    "network.add_edge(\"weather\", \"temperature\")\n",
    "network.add_edge(\"weather\", \"hum\")\n",
    "network.add_edge(\"weather\", \"wind\")\n",
    "network.add_edge(\"temperature\", \"temperature_feels\")\n",
    "network.add_edge(\"hum\", \"temperature_feels\")\n",
    "network.add_edge(\"wind\", \"temperature_feels\")\n",
    "network.add_edge(\"is_holiday\", \"cnt\")\n",
    "network.add_edge(\"is_weekend\", \"cnt\")\n",
    "network.add_edge(\"time\", \"cnt\")\n",
    "network.add_edge(\"temperature_feels\", \"cnt\")\n",
    "\n",
    "# nx.draw(network, with_labels=True)\n",
    "# plt.show()"
   ]
  },
  {
   "cell_type": "code",
   "execution_count": 78,
   "metadata": {},
   "outputs": [],
   "source": [
    "def createCPD(name, parents):\n",
    "    domains = [sorted(data[p].unique()) for p in parents]\n",
    "    combinations = list(itertools.product(*tuple(domains)))\n",
    "    cpd = []\n",
    "    for v in sorted(data[name].unique()):\n",
    "        row = []\n",
    "        for c in combinations:\n",
    "            numerator = data[name] == v\n",
    "            denominator = [True for i in range(data.shape[0])]\n",
    "            for i, p in enumerate(parents):\n",
    "                numerator = (numerator) & (data[p] == c[i])\n",
    "                denominator = (denominator) & (data[p] == c[i])\n",
    "            if data[denominator].shape[0] != 0:\n",
    "                row.append(data[numerator].shape[0] / data[denominator].shape[0])\n",
    "            else:\n",
    "                row.append(data[data[name] == v].shape[0] / data.shape[0])\n",
    "        cpd.append(row)\n",
    "\n",
    "    state_names = {\n",
    "        name: sorted(data[name].unique())\n",
    "    }\n",
    "    for p in parents:\n",
    "        state_names[p] = sorted(data[p].unique())\n",
    "\n",
    "    return TabularCPD(\n",
    "        name, \n",
    "        len(data[name].unique()), \n",
    "        cpd, \n",
    "        evidence = parents, \n",
    "        evidence_card = [len(data[p].unique()) for p in parents],\n",
    "        state_names = state_names\n",
    "    )"
   ]
  },
  {
   "cell_type": "code",
   "execution_count": 79,
   "metadata": {},
   "outputs": [],
   "source": [
    "cpd_tables = {}\n",
    "for node in network.nodes():\n",
    "    in_edges = [edge[0] for edge in network.edges() if edge[1] == node]\n",
    "    cpd_tables[node] = createCPD(node, in_edges)\n",
    "network.add_cpds(*tuple(cpd_tables.values()))"
   ]
  },
  {
   "cell_type": "code",
   "execution_count": 80,
   "metadata": {},
   "outputs": [
    {
     "data": {
      "text/plain": [
       "True"
      ]
     },
     "execution_count": 80,
     "metadata": {},
     "output_type": "execute_result"
    }
   ],
   "source": [
    "network.check_model()"
   ]
  },
  {
   "cell_type": "code",
   "execution_count": 81,
   "metadata": {},
   "outputs": [],
   "source": [
    "# Variable Elimination\n",
    "infer_non_adjust = VariableElimination(network)"
   ]
  },
  {
   "cell_type": "code",
   "execution_count": 82,
   "metadata": {},
   "outputs": [
    {
     "name": "stderr",
     "output_type": "stream",
     "text": [
      "Finding Elimination Order: : 100%|██████████| 5/5 [00:00<00:00, 4995.60it/s]\n",
      "Eliminating: time: 100%|██████████| 5/5 [00:00<00:00, 124.96it/s]    "
     ]
    },
    {
     "name": "stdout",
     "output_type": "stream",
     "text": [
      "+--------+------------+\n",
      "| cnt    |   phi(cnt) |\n",
      "+========+============+\n",
      "| cnt(0) |     0.2583 |\n",
      "+--------+------------+\n",
      "| cnt(1) |     0.1790 |\n",
      "+--------+------------+\n",
      "| cnt(2) |     0.1720 |\n",
      "+--------+------------+\n",
      "| cnt(3) |     0.0925 |\n",
      "+--------+------------+\n",
      "| cnt(4) |     0.0866 |\n",
      "+--------+------------+\n",
      "| cnt(5) |     0.0881 |\n",
      "+--------+------------+\n",
      "| cnt(6) |     0.0629 |\n",
      "+--------+------------+\n",
      "| cnt(7) |     0.0605 |\n",
      "+--------+------------+\n"
     ]
    },
    {
     "name": "stderr",
     "output_type": "stream",
     "text": [
      "\n"
     ]
    }
   ],
   "source": [
    "# Query 1\n",
    "print(infer_non_adjust.query(variables=[\"cnt\"], evidence = {\"temperature\": 0, \"wind\": 1, \"weather\": 4, \"season\": 3}))"
   ]
  },
  {
   "cell_type": "code",
   "execution_count": 83,
   "metadata": {},
   "outputs": [
    {
     "name": "stderr",
     "output_type": "stream",
     "text": [
      "Finding Elimination Order: : 100%|██████████| 5/5 [00:00<00:00, 2480.96it/s]\n",
      "Eliminating: time: 100%|██████████| 5/5 [00:00<00:00, 131.55it/s]    "
     ]
    },
    {
     "name": "stdout",
     "output_type": "stream",
     "text": [
      "+--------+------------+\n",
      "| cnt    |   phi(cnt) |\n",
      "+========+============+\n",
      "| cnt(0) |     0.0394 |\n",
      "+--------+------------+\n",
      "| cnt(1) |     0.0653 |\n",
      "+--------+------------+\n",
      "| cnt(2) |     0.0794 |\n",
      "+--------+------------+\n",
      "| cnt(3) |     0.1115 |\n",
      "+--------+------------+\n",
      "| cnt(4) |     0.1587 |\n",
      "+--------+------------+\n",
      "| cnt(5) |     0.1721 |\n",
      "+--------+------------+\n",
      "| cnt(6) |     0.1834 |\n",
      "+--------+------------+\n",
      "| cnt(7) |     0.1900 |\n",
      "+--------+------------+\n"
     ]
    },
    {
     "name": "stderr",
     "output_type": "stream",
     "text": [
      "\n"
     ]
    }
   ],
   "source": [
    "# Query 2\n",
    "print(infer_non_adjust.query(variables=[\"cnt\"], evidence = {\"temperature\": 2, \"wind\": 0, \"weather\": 1, \"season\": 1}))"
   ]
  },
  {
   "cell_type": "code",
   "execution_count": 84,
   "metadata": {},
   "outputs": [
    {
     "name": "stderr",
     "output_type": "stream",
     "text": [
      "Finding Elimination Order: : 100%|██████████| 4/4 [00:00<00:00, 3995.53it/s]\n",
      "Eliminating: weather: 100%|██████████| 4/4 [00:00<00:00, 499.90it/s]"
     ]
    },
    {
     "name": "stdout",
     "output_type": "stream",
     "text": [
      "+----------------------+--------------------------+\n",
      "| temperature_feels    |   phi(temperature_feels) |\n",
      "+======================+==========================+\n",
      "| temperature_feels(0) |                   0.2289 |\n",
      "+----------------------+--------------------------+\n",
      "| temperature_feels(1) |                   0.4262 |\n",
      "+----------------------+--------------------------+\n",
      "| temperature_feels(2) |                   0.3446 |\n",
      "+----------------------+--------------------------+\n",
      "| temperature_feels(3) |                   0.0002 |\n",
      "+----------------------+--------------------------+\n"
     ]
    },
    {
     "name": "stderr",
     "output_type": "stream",
     "text": [
      "\n"
     ]
    }
   ],
   "source": [
    "# Query 3\n",
    "print(infer_non_adjust.query(variables=[\"temperature_feels\"], evidence = {\"wind\": 0, \"hum\": 2}))"
   ]
  },
  {
   "cell_type": "code",
   "execution_count": 85,
   "metadata": {},
   "outputs": [
    {
     "name": "stderr",
     "output_type": "stream",
     "text": [
      "Finding Elimination Order: : 100%|██████████| 8/8 [00:00<00:00, 4021.87it/s]\n",
      "Eliminating: hum: 100%|██████████| 8/8 [00:00<00:00, 129.00it/s]     "
     ]
    },
    {
     "name": "stdout",
     "output_type": "stream",
     "text": [
      "+-----------------+-------------+\n",
      "| time            |   phi(time) |\n",
      "+=================+=============+\n",
      "| time(afternoon) |      0.0513 |\n",
      "+-----------------+-------------+\n",
      "| time(evening)   |      0.0371 |\n",
      "+-----------------+-------------+\n",
      "| time(morning)   |      0.3015 |\n",
      "+-----------------+-------------+\n",
      "| time(night)     |      0.6101 |\n",
      "+-----------------+-------------+\n"
     ]
    },
    {
     "name": "stderr",
     "output_type": "stream",
     "text": [
      "\n"
     ]
    }
   ],
   "source": [
    "# Query 4\n",
    "print(infer_non_adjust.query(variables=[\"time\"], evidence = {\"cnt\": 0}))"
   ]
  },
  {
   "cell_type": "code",
   "execution_count": 86,
   "metadata": {},
   "outputs": [
    {
     "name": "stderr",
     "output_type": "stream",
     "text": [
      "Finding Elimination Order: : 100%|██████████| 7/7 [00:00<00:00, 6993.84it/s]\n",
      "Eliminating: hum: 100%|██████████| 7/7 [00:00<00:00, 437.38it/s]"
     ]
    },
    {
     "name": "stdout",
     "output_type": "stream",
     "text": [
      "+-----------------+-------------------+\n",
      "| is_holiday      |   phi(is_holiday) |\n",
      "+=================+===================+\n",
      "| is_holiday(no)  |            0.0000 |\n",
      "+-----------------+-------------------+\n",
      "| is_holiday(yes) |            1.0000 |\n",
      "+-----------------+-------------------+\n"
     ]
    },
    {
     "name": "stderr",
     "output_type": "stream",
     "text": [
      "\n"
     ]
    }
   ],
   "source": [
    "# Query 5\n",
    "print(infer_non_adjust.query(variables=[\"is_holiday\"], evidence = {\"cnt\": 1, \"temperature_feels\": 3}))"
   ]
  },
  {
   "cell_type": "code",
   "execution_count": 87,
   "metadata": {},
   "outputs": [],
   "source": [
    "# Inference\n",
    "inference = BayesianModelSampling(network)\n",
    "evidence = [State(\"temperature\", 1)]"
   ]
  },
  {
   "cell_type": "code",
   "execution_count": 88,
   "metadata": {},
   "outputs": [],
   "source": [
    "# Rejection Sampling\n",
    "# P(cnt = 3 | temperature = 1)\n",
    "probabilities_rs = []\n",
    "for size in np.logspace(1, 5, num=20, dtype=\"int\"):\n",
    "    samples = inference.rejection_sample(evidence = evidence, size = size, show_progress = False)\n",
    "    probabilities_rs.append(samples[samples['cnt'] == 3].shape[0] / size)"
   ]
  },
  {
   "cell_type": "code",
   "execution_count": 89,
   "metadata": {},
   "outputs": [],
   "source": [
    "# Likelihood Weighted\n",
    "# P(cnt = 3 | temperature = 1)\n",
    "probabilities_lw = []\n",
    "for size in np.logspace(1, 5, num=20, dtype=\"int\"):\n",
    "    samples = inference.likelihood_weighted_sample(evidence = evidence, size = size, show_progress = False)\n",
    "    probabilities_lw.append(np.dot((samples['cnt'] == 3).astype(int),samples['_weight'])/np.sum(samples['_weight']))"
   ]
  },
  {
   "cell_type": "code",
   "execution_count": 90,
   "metadata": {},
   "outputs": [
    {
     "name": "stderr",
     "output_type": "stream",
     "text": [
      "Finding Elimination Order: : 100%|██████████| 8/8 [00:00<00:00, 7998.67it/s]\n",
      "Eliminating: time: 100%|██████████| 8/8 [00:00<00:00, 98.11it/s]     \n"
     ]
    },
    {
     "data": {
      "image/png": "[encoded data removed]",
      "text/plain": [
       "<Figure size 1440x360 with 1 Axes>"
      ]
     },
     "metadata": {
      "needs_background": "light"
     },
     "output_type": "display_data"
    }
   ],
   "source": [
    "exact_inference = infer_non_adjust.query(variables=[\"cnt\"], evidence = {\"temperature\": 1}).values[3]\n",
    "\n",
    "plt.figure(figsize=(20,5))\n",
    "plt.subplot(121)\n",
    "plt.ylim(0, 0.3)\n",
    "plt.title('P(cnt = 3 | temperature = 1)')\n",
    "LWCplot, = plt.semilogx(np.logspace(1, 5, num=20, dtype=\"int\"), probabilities_lw,'b',label=\"Likelihood Weighting\")\n",
    "RSCplot, = plt.semilogx(np.logspace(1, 5, num=20, dtype=\"int\"), probabilities_rs,'g',label=\"Rejection Sampling\")\n",
    "VECplot, = plt.semilogx(np.logspace(1, 5, num=20, dtype=\"int\"), exact_inference*np.ones(20),'r',label=\"Exact Inference\")\n",
    "plt.legend(handles=[LWCplot,RSCplot,VECplot])\n",
    "plt.show()"
   ]
  },
  {
   "cell_type": "code",
   "execution_count": 93,
   "metadata": {},
   "outputs": [],
   "source": [
    "# Rejection Sampling\n",
    "# P(time = evening | cnt = 3, temperature = 1)\n",
    "evidence = [State(\"cnt\", 3), State(\"temperature\", 1)]\n",
    "probabilities_rs = []\n",
    "for size in np.logspace(1, 5, num=20, dtype=\"int\"):\n",
    "    samples = inference.rejection_sample(evidence = evidence, size = size, show_progress = False)\n",
    "    probabilities_rs.append(samples[samples['time'] == \"evening\"].shape[0] / size)"
   ]
  },
  {
   "cell_type": "code",
   "execution_count": 94,
   "metadata": {},
   "outputs": [],
   "source": [
    "# Likelihood Weighted\n",
    "# P(time = evening | cnt = 3, temperature = 1)\n",
    "probabilities_lw = []\n",
    "for size in np.logspace(1, 5, num=20, dtype=\"int\"):\n",
    "    samples = inference.likelihood_weighted_sample(evidence = evidence, size = size, show_progress = False)\n",
    "    probabilities_lw.append(np.dot((samples['time'] == \"evening\").astype(int),samples['_weight'])/np.sum(samples['_weight']))"
   ]
  },
  {
   "cell_type": "code",
   "execution_count": 100,
   "metadata": {},
   "outputs": [
    {
     "name": "stderr",
     "output_type": "stream",
     "text": [
      "Finding Elimination Order: : 100%|██████████| 7/7 [00:00<00:00, 6990.51it/s]\n",
      "Eliminating: weather: 100%|██████████| 7/7 [00:00<00:00, 212.06it/s] \n"
     ]
    },
    {
     "data": {
      "image/png": "[encoded data removed]",
      "text/plain": [
       "<Figure size 1440x360 with 1 Axes>"
      ]
     },
     "metadata": {
      "needs_background": "light"
     },
     "output_type": "display_data"
    }
   ],
   "source": [
    "exact_inference = infer_non_adjust.query(variables=[\"time\"], evidence = {\"cnt\": 3, \"temperature\": 1}).values[1]\n",
    "\n",
    "plt.figure(figsize=(20,5))\n",
    "plt.subplot(121)\n",
    "plt.ylim(0, 0.3)\n",
    "plt.title('P(time = evening | cnt = 3, temperature = 1)')\n",
    "LWCplot, = plt.semilogx(np.logspace(1, 5, num=20, dtype=\"int\"), probabilities_lw,'b',label=\"Likelihood Weighting\")\n",
    "RSCplot, = plt.semilogx(np.logspace(1, 5, num=20, dtype=\"int\"), probabilities_rs,'g',label=\"Rejection Sampling\")\n",
    "VECplot, = plt.semilogx(np.logspace(1, 5, num=20, dtype=\"int\"), exact_inference*np.ones(20),'r',label=\"Exact Inference\")\n",
    "plt.legend(handles=[LWCplot,RSCplot,VECplot])\n",
    "plt.show()"
   ]
  }
 ],
 "metadata": {
  "interpreter": {
   "hash": "ba76c3563d2bf93f1d7927a5c93fc554c22f15254ee081187a0731c458c5097b"
  },
  "kernelspec": {
   "display_name": "Python 3.9.7 ('base')",
   "language": "python",
   "name": "python3"
  },
  "language_info": {
   "codemirror_mode": {
    "name": "ipython",
    "version": 3
   },
   "file_extension": ".py",
   "mimetype": "text/x-python",
   "name": "python",
   "nbconvert_exporter": "python",
   "pygments_lexer": "ipython3",
   "version": "3.9.7"
  },
  "orig_nbformat": 4
 },
 "nbformat": 4,
 "nbformat_minor": 2
}
