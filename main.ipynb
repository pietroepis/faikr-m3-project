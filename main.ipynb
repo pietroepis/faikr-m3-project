{
 "cells": [
  {
   "cell_type": "code",
   "execution_count": 21,
   "metadata": {},
   "outputs": [],
   "source": [
    "import pandas as pd\n",
    "import pgmpy\n",
    "from pgmpy.models import BayesianNetwork\n",
    "from pgmpy.factors.discrete import TabularCPD\n",
    "from pgmpy.inference import VariableElimination\n",
    "from pgmpy.sampling import BayesianModelSampling\n",
    "from pgmpy.factors.discrete import State\n",
    "import matplotlib.pyplot as plt\n",
    "import networkx as nx\n",
    "import pylab as plt\n",
    "import itertools\n",
    "import numpy as np\n",
    "import warnings\n",
    "warnings.filterwarnings('ignore')"
   ]
  },
  {
   "cell_type": "markdown",
   "metadata": {},
   "source": [
    "## Dataset pre-processing and mapping to new domains"
   ]
  },
  {
   "cell_type": "code",
   "execution_count": 22,
   "metadata": {},
   "outputs": [
    {
     "data": {
      "text/html": [
       "<div>\n",
       "<style scoped>\n",
       "    .dataframe tbody tr th:only-of-type {\n",
       "        vertical-align: middle;\n",
       "    }\n",
       "\n",
       "    .dataframe tbody tr th {\n",
       "        vertical-align: top;\n",
       "    }\n",
       "\n",
       "    .dataframe thead th {\n",
       "        text-align: right;\n",
       "    }\n",
       "</style>\n",
       "<table border=\"1\" class=\"dataframe\">\n",
       "  <thead>\n",
       "    <tr style=\"text-align: right;\">\n",
       "      <th></th>\n",
       "      <th>cnt</th>\n",
       "      <th>hum</th>\n",
       "      <th>is_holiday</th>\n",
       "      <th>is_weekend</th>\n",
       "      <th>season</th>\n",
       "      <th>time</th>\n",
       "      <th>weather</th>\n",
       "      <th>wind</th>\n",
       "      <th>temperature</th>\n",
       "      <th>temperature_feels</th>\n",
       "    </tr>\n",
       "  </thead>\n",
       "  <tbody>\n",
       "    <tr>\n",
       "      <th>7</th>\n",
       "      <td>0</td>\n",
       "      <td>3</td>\n",
       "      <td>no</td>\n",
       "      <td>yes</td>\n",
       "      <td>winter</td>\n",
       "      <td>morning</td>\n",
       "      <td>cloudy</td>\n",
       "      <td>yes</td>\n",
       "      <td>0</td>\n",
       "      <td>0</td>\n",
       "    </tr>\n",
       "    <tr>\n",
       "      <th>8</th>\n",
       "      <td>0</td>\n",
       "      <td>3</td>\n",
       "      <td>no</td>\n",
       "      <td>yes</td>\n",
       "      <td>winter</td>\n",
       "      <td>morning</td>\n",
       "      <td>cloudy</td>\n",
       "      <td>yes</td>\n",
       "      <td>0</td>\n",
       "      <td>0</td>\n",
       "    </tr>\n",
       "    <tr>\n",
       "      <th>9</th>\n",
       "      <td>0</td>\n",
       "      <td>3</td>\n",
       "      <td>no</td>\n",
       "      <td>yes</td>\n",
       "      <td>winter</td>\n",
       "      <td>morning</td>\n",
       "      <td>broken_clouds</td>\n",
       "      <td>yes</td>\n",
       "      <td>0</td>\n",
       "      <td>0</td>\n",
       "    </tr>\n",
       "    <tr>\n",
       "      <th>10</th>\n",
       "      <td>1</td>\n",
       "      <td>3</td>\n",
       "      <td>no</td>\n",
       "      <td>yes</td>\n",
       "      <td>winter</td>\n",
       "      <td>morning</td>\n",
       "      <td>broken_clouds</td>\n",
       "      <td>yes</td>\n",
       "      <td>0</td>\n",
       "      <td>0</td>\n",
       "    </tr>\n",
       "    <tr>\n",
       "      <th>11</th>\n",
       "      <td>1</td>\n",
       "      <td>3</td>\n",
       "      <td>no</td>\n",
       "      <td>yes</td>\n",
       "      <td>winter</td>\n",
       "      <td>morning</td>\n",
       "      <td>broken_clouds</td>\n",
       "      <td>yes</td>\n",
       "      <td>0</td>\n",
       "      <td>0</td>\n",
       "    </tr>\n",
       "  </tbody>\n",
       "</table>\n",
       "</div>"
      ],
      "text/plain": [
       "   cnt hum is_holiday is_weekend  season     time        weather wind  \\\n",
       "7    0   3         no        yes  winter  morning         cloudy  yes   \n",
       "8    0   3         no        yes  winter  morning         cloudy  yes   \n",
       "9    0   3         no        yes  winter  morning  broken_clouds  yes   \n",
       "10   1   3         no        yes  winter  morning  broken_clouds  yes   \n",
       "11   1   3         no        yes  winter  morning  broken_clouds  yes   \n",
       "\n",
       "   temperature temperature_feels  \n",
       "7            0                 0  \n",
       "8            0                 0  \n",
       "9            0                 0  \n",
       "10           0                 0  \n",
       "11           0                 0  "
      ]
     },
     "execution_count": 22,
     "metadata": {},
     "output_type": "execute_result"
    }
   ],
   "source": [
    "data = pd.read_csv(\"./london_merged.csv\")\n",
    "\n",
    "# Replace timestamp column with only time, and consider only rentals after 6 a.m.\n",
    "data[\"time\"] = pd.to_datetime(data[\"timestamp\"]).dt.time.astype(str).str.slice(0,2).astype(int)\n",
    "data = data.drop(\"timestamp\", axis = 1)\n",
    "data = data[data[\"time\"] > 6]\n",
    "\n",
    "# Mapping to more suitable values\n",
    "data[\"is_weekend\"] = data[\"is_weekend\"].map({1: \"yes\", 0: \"no\"})\n",
    "data[\"is_holiday\"] = data[\"is_holiday\"].map({1: \"yes\", 0: \"no\"})\n",
    "data[\"weather\"] = data[\"weather_code\"].map({\n",
    "    1: \"clear\", \n",
    "    2: \"few_clouds\", \n",
    "    3: \"broken_clouds\", \n",
    "    4: \"cloudy\", \n",
    "    7: \"rain\", \n",
    "    10: \"thunderstorm\",\n",
    "    26: \"snowfall\",\n",
    "    94: \"freezing_fog\"\n",
    "})\n",
    "data[\"season\"] = data[\"season\"].map({\n",
    "    0: \"spring\",\n",
    "    1: \"summer\",\n",
    "    2: \"fall\",\n",
    "    3: \"winter\"\n",
    "})\n",
    "\n",
    "# Columns Renaming\n",
    "data[\"wind\"] = data[\"wind_speed\"]\n",
    "data = data.drop(\"wind_speed\", axis = 1)\n",
    "data[\"temperature\"] = data[\"t1\"]\n",
    "data = data.drop(\"t1\", axis = 1)\n",
    "data[\"temperature_feels\"] = data[\"t2\"]\n",
    "data = data.drop(\"t2\", axis = 1)\n",
    "data = data.drop(\"weather_code\", axis = 1)\n",
    "\n",
    "# Bucketizing in equal ranges\n",
    "data[\"temperature\"] = pd.cut(data[\"temperature\"], bins=4, labels=[0, 1, 2, 3])\n",
    "data[\"temperature_feels\"] = pd.cut(data[\"temperature_feels\"], bins=4, labels=[0, 1, 2, 3])\n",
    "data[\"time\"] = pd.cut(data[\"time\"], bins=4, labels=[\"morning\", \"afternoon\", \"evening\", \"night\"])\n",
    "data[\"hum\"] = pd.cut(data[\"hum\"], bins=4, labels=[0, 1, 2, 3])\n",
    "data[\"wind\"] = pd.cut(data[\"wind\"], bins=2, labels=[\"yes\", \"no\"])\n",
    "\n",
    "# Bucketizing to keep the number of items per bucket constant\n",
    "data[\"cnt\"] = pd.qcut(data[\"cnt\"], q=8, labels=[0, 1, 2, 3, 4, 5, 6, 7])\n",
    "\n",
    "data.head()"
   ]
  },
  {
   "cell_type": "markdown",
   "metadata": {},
   "source": [
    "## Construction of the Bayesian Network"
   ]
  },
  {
   "cell_type": "code",
   "execution_count": 23,
   "metadata": {},
   "outputs": [],
   "source": [
    "network = BayesianNetwork()\n",
    "network.add_nodes_from([\"cnt\", \"temperature\", \"wind\", \"weather\", \"is_weekend\", \"season\", \"time\", \"temperature_feels\", \"hum\", \"is_holiday\"])\n",
    "\n",
    "network.add_edge(\"season\", \"weather\")\n",
    "network.add_edge(\"time\", \"temperature\")\n",
    "network.add_edge(\"weather\", \"temperature\")\n",
    "network.add_edge(\"weather\", \"hum\")\n",
    "network.add_edge(\"weather\", \"wind\")\n",
    "network.add_edge(\"temperature\", \"temperature_feels\")\n",
    "network.add_edge(\"hum\", \"temperature_feels\")\n",
    "network.add_edge(\"wind\", \"temperature_feels\")\n",
    "network.add_edge(\"is_holiday\", \"cnt\")\n",
    "network.add_edge(\"is_weekend\", \"cnt\")\n",
    "network.add_edge(\"time\", \"cnt\")\n",
    "network.add_edge(\"temperature_feels\", \"cnt\")\n",
    "\n",
    "params = {\n",
    "    \"with_labels\": True, \n",
    "    \"arrowsize\": 20, \n",
    "    \"node_size\": 20000, \n",
    "    \"font_size\": 15,\n",
    "    \"node_color\": \"black\",\n",
    "    \"font_color\": \"white\",\n",
    "    \"node_shape\": \"o\"\n",
    "}\n",
    "\n",
    "pos = {\n",
    "    \"cnt\": np.array([0, -0.36734694]),\n",
    "    \"temperature\": np.array([0.05, 0.1]),\n",
    "    \"wind\": np.array([0.35, 0.1]),\n",
    "    \"weather\": np.array([0.2, 0.3]),\n",
    "    \"is_weekend\": np.array([0.5, -0.25]),\n",
    "    \"season\": np.array([0, 0.4]),\n",
    "    \"time\": np.array([-0.2, 0.3]),\n",
    "    \"temperature_feels\": np.array([0.2, -0.1]),\n",
    "    \"hum\": np.array([0.2, 0.1]),\n",
    "    \"is_holiday\": np.array([0.5, -0.1])\n",
    "}\n",
    "\n",
    "# plt.figure(figsize = (20, 20))\n",
    "# nx.draw_networkx(network, pos = pos, **params)\n",
    "# plt.show()\n",
    "# plt.savefig(\"net.png\")"
   ]
  },
  {
   "cell_type": "markdown",
   "metadata": {},
   "source": [
    "### Function for CPDs generation"
   ]
  },
  {
   "cell_type": "code",
   "execution_count": 24,
   "metadata": {},
   "outputs": [],
   "source": [
    "def createCPD(name, parents):\n",
    "    domains = [sorted(data[p].unique()) for p in parents]\n",
    "    combinations = list(itertools.product(*tuple(domains)))\n",
    "    cpd = []\n",
    "    for v in sorted(data[name].unique()):\n",
    "        row = []\n",
    "        for c in combinations:\n",
    "            numerator = data[name] == v\n",
    "            denominator = [True for i in range(data.shape[0])]\n",
    "            for i, p in enumerate(parents):\n",
    "                numerator = (numerator) & (data[p] == c[i])\n",
    "                denominator = (denominator) & (data[p] == c[i])\n",
    "            if data[denominator].shape[0] != 0:\n",
    "                row.append(data[numerator].shape[0] / data[denominator].shape[0])\n",
    "            else:\n",
    "                row.append(data[data[name] == v].shape[0] / data.shape[0])\n",
    "        cpd.append(row)\n",
    "\n",
    "    state_names = {\n",
    "        name: sorted(data[name].unique())\n",
    "    }\n",
    "    for p in parents:\n",
    "        state_names[p] = sorted(data[p].unique())\n",
    "\n",
    "    return TabularCPD(\n",
    "        name, \n",
    "        len(data[name].unique()), \n",
    "        cpd, \n",
    "        evidence = parents, \n",
    "        evidence_card = [len(data[p].unique()) for p in parents],\n",
    "        state_names = state_names\n",
    "    )"
   ]
  },
  {
   "cell_type": "markdown",
   "metadata": {},
   "source": [
    "### Generation of the CPDs for each variable of the network, exploiting the previously defined function"
   ]
  },
  {
   "cell_type": "code",
   "execution_count": 25,
   "metadata": {},
   "outputs": [
    {
     "data": {
      "text/plain": [
       "True"
      ]
     },
     "execution_count": 25,
     "metadata": {},
     "output_type": "execute_result"
    }
   ],
   "source": [
    "cpd_tables = {}\n",
    "for node in network.nodes():\n",
    "    in_edges = [edge[0] for edge in network.edges() if edge[1] == node]\n",
    "    cpd_tables[node] = createCPD(node, in_edges)\n",
    "network.add_cpds(*tuple(cpd_tables.values()))\n",
    "\n",
    "network.check_model()"
   ]
  },
  {
   "cell_type": "markdown",
   "metadata": {},
   "source": [
    "## Exact Inference"
   ]
  },
  {
   "cell_type": "code",
   "execution_count": 26,
   "metadata": {},
   "outputs": [],
   "source": [
    "# Variable Elimination\n",
    "infer_non_adjust = VariableElimination(network)"
   ]
  },
  {
   "cell_type": "markdown",
   "metadata": {},
   "source": [
    "#### Evidence:\n",
    "- temperature: [-1, 7.75]\n",
    "- wind: yes\n",
    "- weather: rain\n",
    "- season: winter\n",
    "\n",
    "#### Target: cnt"
   ]
  },
  {
   "cell_type": "code",
   "execution_count": 27,
   "metadata": {},
   "outputs": [
    {
     "name": "stderr",
     "output_type": "stream",
     "text": [
      "Finding Elimination Order: : 100%|██████████| 5/5 [00:00<00:00, 2499.29it/s]\n",
      "Eliminating: time: 100%|██████████| 5/5 [00:00<00:00, 172.45it/s]    "
     ]
    },
    {
     "name": "stdout",
     "output_type": "stream",
     "text": [
      "+--------+------------+\n",
      "| cnt    |   phi(cnt) |\n",
      "+========+============+\n",
      "| cnt(0) |     0.2583 |\n",
      "+--------+------------+\n",
      "| cnt(1) |     0.1790 |\n",
      "+--------+------------+\n",
      "| cnt(2) |     0.1720 |\n",
      "+--------+------------+\n",
      "| cnt(3) |     0.0925 |\n",
      "+--------+------------+\n",
      "| cnt(4) |     0.0866 |\n",
      "+--------+------------+\n",
      "| cnt(5) |     0.0881 |\n",
      "+--------+------------+\n",
      "| cnt(6) |     0.0629 |\n",
      "+--------+------------+\n",
      "| cnt(7) |     0.0605 |\n",
      "+--------+------------+\n"
     ]
    },
    {
     "name": "stderr",
     "output_type": "stream",
     "text": [
      "\n"
     ]
    }
   ],
   "source": [
    "# Query 1\n",
    "print(infer_non_adjust.query(variables=[\"cnt\"], evidence = {\"temperature\": 0, \"wind\": 1, \"weather\": 4, \"season\": 3}))"
   ]
  },
  {
   "cell_type": "markdown",
   "metadata": {},
   "source": [
    "#### Evidence:\n",
    "- temperature: (16.5, 25.25]\n",
    "- wind: no\n",
    "- weather: clear\n",
    "- season: spring\n",
    "\n",
    "#### Target: cnt"
   ]
  },
  {
   "cell_type": "code",
   "execution_count": 28,
   "metadata": {},
   "outputs": [
    {
     "name": "stderr",
     "output_type": "stream",
     "text": [
      "Finding Elimination Order: : 100%|██████████| 5/5 [00:00<00:00, 2506.76it/s]\n",
      "Eliminating: time: 100%|██████████| 5/5 [00:00<00:00, 178.57it/s]    "
     ]
    },
    {
     "name": "stdout",
     "output_type": "stream",
     "text": [
      "+--------+------------+\n",
      "| cnt    |   phi(cnt) |\n",
      "+========+============+\n",
      "| cnt(0) |     0.0394 |\n",
      "+--------+------------+\n",
      "| cnt(1) |     0.0653 |\n",
      "+--------+------------+\n",
      "| cnt(2) |     0.0794 |\n",
      "+--------+------------+\n",
      "| cnt(3) |     0.1115 |\n",
      "+--------+------------+\n",
      "| cnt(4) |     0.1587 |\n",
      "+--------+------------+\n",
      "| cnt(5) |     0.1721 |\n",
      "+--------+------------+\n",
      "| cnt(6) |     0.1834 |\n",
      "+--------+------------+\n",
      "| cnt(7) |     0.1900 |\n",
      "+--------+------------+\n"
     ]
    },
    {
     "name": "stderr",
     "output_type": "stream",
     "text": [
      "\n"
     ]
    }
   ],
   "source": [
    "# Query 2\n",
    "print(infer_non_adjust.query(variables=[\"cnt\"], evidence = {\"temperature\": 2, \"wind\": 0, \"weather\": 1, \"season\": 1}))"
   ]
  },
  {
   "cell_type": "markdown",
   "metadata": {},
   "source": [
    "#### Evidence:\n",
    "- wind: yes\n",
    "- humidity: (60.25, 80.125]\n",
    "\n",
    "#### Target: temperature_feels"
   ]
  },
  {
   "cell_type": "code",
   "execution_count": 29,
   "metadata": {},
   "outputs": [
    {
     "name": "stderr",
     "output_type": "stream",
     "text": [
      "Finding Elimination Order: : 100%|██████████| 4/4 [00:00<00:00, 4002.20it/s]\n",
      "Eliminating: weather: 100%|██████████| 4/4 [00:00<00:00, 571.47it/s]"
     ]
    },
    {
     "name": "stdout",
     "output_type": "stream",
     "text": [
      "+----------------------+--------------------------+\n",
      "| temperature_feels    |   phi(temperature_feels) |\n",
      "+======================+==========================+\n",
      "| temperature_feels(0) |                   0.2289 |\n",
      "+----------------------+--------------------------+\n",
      "| temperature_feels(1) |                   0.4262 |\n",
      "+----------------------+--------------------------+\n",
      "| temperature_feels(2) |                   0.3446 |\n",
      "+----------------------+--------------------------+\n",
      "| temperature_feels(3) |                   0.0002 |\n",
      "+----------------------+--------------------------+\n"
     ]
    },
    {
     "name": "stderr",
     "output_type": "stream",
     "text": [
      "\n"
     ]
    }
   ],
   "source": [
    "# Query 3\n",
    "print(infer_non_adjust.query(variables=[\"temperature_feels\"], evidence = {\"wind\": 0, \"hum\": 2}))"
   ]
  },
  {
   "cell_type": "markdown",
   "metadata": {},
   "source": [
    "#### Evidence:\n",
    "- cnt: [47, 473]\n",
    "\n",
    "#### Target: time"
   ]
  },
  {
   "cell_type": "code",
   "execution_count": 30,
   "metadata": {},
   "outputs": [
    {
     "name": "stderr",
     "output_type": "stream",
     "text": [
      "Finding Elimination Order: : 100%|██████████| 8/8 [00:00<00:00, 8093.21it/s]\n",
      "Eliminating: season: 100%|██████████| 8/8 [00:00<00:00, 99.98it/s]   "
     ]
    },
    {
     "name": "stdout",
     "output_type": "stream",
     "text": [
      "+-----------------+-------------+\n",
      "| time            |   phi(time) |\n",
      "+=================+=============+\n",
      "| time(afternoon) |      0.0513 |\n",
      "+-----------------+-------------+\n",
      "| time(evening)   |      0.0371 |\n",
      "+-----------------+-------------+\n",
      "| time(morning)   |      0.3015 |\n",
      "+-----------------+-------------+\n",
      "| time(night)     |      0.6101 |\n",
      "+-----------------+-------------+\n"
     ]
    },
    {
     "name": "stderr",
     "output_type": "stream",
     "text": [
      "\n"
     ]
    }
   ],
   "source": [
    "# Query 4\n",
    "print(infer_non_adjust.query(variables=[\"time\"], evidence = {\"cnt\": 0}))"
   ]
  },
  {
   "cell_type": "markdown",
   "metadata": {},
   "source": [
    "#### Evidence:\n",
    "- cnt: (473, 753]\n",
    "- temperature_feels: (24.375, 34]\n",
    "\n",
    "#### Target: is_holiday"
   ]
  },
  {
   "cell_type": "code",
   "execution_count": 31,
   "metadata": {},
   "outputs": [
    {
     "name": "stderr",
     "output_type": "stream",
     "text": [
      "Finding Elimination Order: : 100%|██████████| 7/7 [00:00<00:00, 3495.25it/s]\n",
      "Eliminating: is_weekend: 100%|██████████| 7/7 [00:00<00:00, 583.13it/s]\n"
     ]
    },
    {
     "name": "stdout",
     "output_type": "stream",
     "text": [
      "+-----------------+-------------------+\n",
      "| is_holiday      |   phi(is_holiday) |\n",
      "+=================+===================+\n",
      "| is_holiday(no)  |            0.0000 |\n",
      "+-----------------+-------------------+\n",
      "| is_holiday(yes) |            1.0000 |\n",
      "+-----------------+-------------------+\n"
     ]
    }
   ],
   "source": [
    "# Query 5\n",
    "print(infer_non_adjust.query(variables=[\"is_holiday\"], evidence = {\"cnt\": 1, \"temperature_feels\": 3}))"
   ]
  },
  {
   "cell_type": "markdown",
   "metadata": {},
   "source": [
    "## Approximate Inference"
   ]
  },
  {
   "cell_type": "code",
   "execution_count": 32,
   "metadata": {},
   "outputs": [],
   "source": [
    "# Inference\n",
    "inference = BayesianModelSampling(network)\n",
    "evidence = [State(\"temperature\", 1)]"
   ]
  },
  {
   "cell_type": "markdown",
   "metadata": {},
   "source": [
    "#### Evidence:\n",
    "- temperature: (7.75, 16.5]\n",
    "\n",
    "#### Target: cnt [993, 1256]"
   ]
  },
  {
   "cell_type": "code",
   "execution_count": 33,
   "metadata": {},
   "outputs": [],
   "source": [
    "# Rejection Sampling\n",
    "# P(cnt = 3 | temperature = 1)\n",
    "probabilities_rs = []\n",
    "for size in np.logspace(1, 5, num=20, dtype=\"int\"):\n",
    "    samples = inference.rejection_sample(evidence = evidence, size = size, show_progress = False)\n",
    "    probabilities_rs.append(samples[samples['cnt'] == 3].shape[0] / size)"
   ]
  },
  {
   "cell_type": "code",
   "execution_count": 34,
   "metadata": {},
   "outputs": [],
   "source": [
    "# Likelihood Weighted\n",
    "# P(cnt = 3 | temperature = 1)\n",
    "probabilities_lw = []\n",
    "for size in np.logspace(1, 5, num=20, dtype=\"int\"):\n",
    "    samples = inference.likelihood_weighted_sample(evidence = evidence, size = size, show_progress = False)\n",
    "    probabilities_lw.append(np.dot((samples['cnt'] == 3).astype(int),samples['_weight'])/np.sum(samples['_weight']))"
   ]
  },
  {
   "cell_type": "markdown",
   "metadata": {},
   "source": [
    "## Results Comparison"
   ]
  },
  {
   "cell_type": "code",
   "execution_count": 35,
   "metadata": {},
   "outputs": [
    {
     "name": "stderr",
     "output_type": "stream",
     "text": [
      "Finding Elimination Order: : 100%|██████████| 8/8 [00:00<00:00, 7996.77it/s]\n",
      "Eliminating: time: 100%|██████████| 8/8 [00:00<00:00, 59.78it/s]      \n"
     ]
    },
    {
     "data": {
      "image/png": "[encoded data removed]",
      "text/plain": [
       "<Figure size 1440x360 with 1 Axes>"
      ]
     },
     "metadata": {
      "needs_background": "light"
     },
     "output_type": "display_data"
    }
   ],
   "source": [
    "exact_inference = infer_non_adjust.query(variables=[\"cnt\"], evidence = {\"temperature\": 1}).values[3]\n",
    "\n",
    "plt.figure(figsize=(20,5))\n",
    "plt.subplot(121)\n",
    "plt.ylim(0, 0.3)\n",
    "plt.title(\"P(cnt = 3 | temperature = 1)\")\n",
    "LWCplot, = plt.semilogx(np.logspace(1, 5, num=20, dtype=\"int\"), probabilities_lw,\"b\",label=\"Likelihood Weighting\")\n",
    "RSCplot, = plt.semilogx(np.logspace(1, 5, num=20, dtype=\"int\"), probabilities_rs,\"g\",label=\"Rejection Sampling\")\n",
    "VECplot, = plt.semilogx(np.logspace(1, 5, num=20, dtype=\"int\"), exact_inference*np.ones(20),\"r\",label=\"Exact Inference\")\n",
    "plt.legend(handles=[LWCplot,RSCplot,VECplot])\n",
    "plt.show()"
   ]
  },
  {
   "cell_type": "markdown",
   "metadata": {},
   "source": [
    "#### Evidence:\n",
    "- cnt: [993, 1256]\n",
    "- temperature: (7.75, 16.5]\n",
    "\n",
    "#### Target: time evening"
   ]
  },
  {
   "cell_type": "code",
   "execution_count": 36,
   "metadata": {},
   "outputs": [],
   "source": [
    "# Rejection Sampling\n",
    "# P(time = evening | cnt = 3, temperature = 1)\n",
    "evidence = [State(\"cnt\", 3), State(\"temperature\", 1)]\n",
    "probabilities_rs = []\n",
    "for size in np.logspace(1, 5, num=20, dtype=\"int\"):\n",
    "    samples = inference.rejection_sample(evidence = evidence, size = size, show_progress = False)\n",
    "    probabilities_rs.append(samples[samples[\"time\"] == \"evening\"].shape[0] / size)"
   ]
  },
  {
   "cell_type": "code",
   "execution_count": 37,
   "metadata": {},
   "outputs": [],
   "source": [
    "# Likelihood Weighting\n",
    "# P(time = evening | cnt = 3, temperature = 1)\n",
    "probabilities_lw = []\n",
    "for size in np.logspace(1, 5, num=20, dtype=\"int\"):\n",
    "    samples = inference.likelihood_weighted_sample(evidence = evidence, size = size, show_progress = False)\n",
    "    probabilities_lw.append(np.dot((samples[\"time\"] == \"evening\").astype(int),samples[\"_weight\"])/np.sum(samples[\"_weight\"]))"
   ]
  },
  {
   "cell_type": "code",
   "execution_count": 38,
   "metadata": {},
   "outputs": [
    {
     "name": "stderr",
     "output_type": "stream",
     "text": [
      "Finding Elimination Order: : 100%|██████████| 7/7 [00:00<00:00, 6993.84it/s]\n",
      "Eliminating: is_weekend: 100%|██████████| 7/7 [00:00<00:00, 291.63it/s]\n"
     ]
    },
    {
     "data": {
      "image/png": "[encoded data removed]",
      "text/plain": [
       "<Figure size 1440x360 with 1 Axes>"
      ]
     },
     "metadata": {
      "needs_background": "light"
     },
     "output_type": "display_data"
    }
   ],
   "source": [
    "exact_inference = infer_non_adjust.query(variables=[\"time\"], evidence = {\"cnt\": 3, \"temperature\": 1}).values[1]\n",
    "\n",
    "plt.figure(figsize=(20,5))\n",
    "plt.subplot(121)\n",
    "plt.ylim(0, 0.3)\n",
    "plt.title(\"P(time = evening | cnt = 3, temperature = 1)\")\n",
    "plt.xlabel(\"Number of samples\")\n",
    "LWCplot, = plt.semilogx(np.logspace(1, 5, num=20, dtype=\"int\"), probabilities_lw,\"b\",label=\"Likelihood Weighting\")\n",
    "RSCplot, = plt.semilogx(np.logspace(1, 5, num=20, dtype=\"int\"), probabilities_rs,\"g\",label=\"Rejection Sampling\")\n",
    "VECplot, = plt.semilogx(np.logspace(1, 5, num=20, dtype=\"int\"), exact_inference*np.ones(20),\"r\",label=\"Exact Inference\")\n",
    "plt.legend(handles=[LWCplot,RSCplot,VECplot])\n",
    "plt.show()"
   ]
  },
  {
   "cell_type": "markdown",
   "metadata": {},
   "source": [
    "## Errors"
   ]
  },
  {
   "cell_type": "code",
   "execution_count": 39,
   "metadata": {
    "collapsed": false,
    "pycharm": {
     "name": "#%%\n"
    }
   },
   "outputs": [],
   "source": [
    "rel_error_rs = np.absolute(probabilities_rs - exact_inference)/ exact_inference\n",
    "rel_error_lw = np.absolute(probabilities_lw - exact_inference)/ exact_inference"
   ]
  },
  {
   "cell_type": "code",
   "execution_count": 40,
   "metadata": {
    "collapsed": false,
    "pycharm": {
     "name": "#%%\n"
    }
   },
   "outputs": [
    {
     "data": {
      "image/png": "[encoded data removed]",
      "text/plain": [
       "<Figure size 1440x360 with 1 Axes>"
      ]
     },
     "metadata": {
      "needs_background": "light"
     },
     "output_type": "display_data"
    }
   ],
   "source": [
    "plt.figure(figsize=(20,5))\n",
    "plt.subplot(121)\n",
    "plt.ylim(0, 1)\n",
    "plt.title(\"Relative error on P(time = evening | cnt = 3, temperature = 1)\")\n",
    "plt.xlabel(\"Number of samples\")\n",
    "rs, = plt.semilogx(np.logspace(1, 5, num=20, dtype=\"int\"), rel_error_rs,label=\"Rejection Sampling\")\n",
    "lw, = plt.semilogx(np.logspace(1, 5, num=20, dtype=\"int\"), rel_error_lw,label=\"Likelihood Weighting\")\n",
    "plt.legend(handles=[rs,lw])\n",
    "plt.show()"
   ]
  },
  {
   "cell_type": "code",
   "execution_count": 41,
   "metadata": {
    "collapsed": false,
    "pycharm": {
     "name": "#%%\n"
    }
   },
   "outputs": [],
   "source": [
    "ab_error_rs = np.absolute(probabilities_rs - exact_inference)\n",
    "ab_error_lw = np.absolute(probabilities_lw - exact_inference)"
   ]
  },
  {
   "cell_type": "code",
   "execution_count": 42,
   "metadata": {
    "collapsed": false,
    "pycharm": {
     "name": "#%%\n"
    }
   },
   "outputs": [
    {
     "data": {
      "image/png": "[encoded data removed]",
      "text/plain": [
       "<Figure size 1440x360 with 1 Axes>"
      ]
     },
     "metadata": {
      "needs_background": "light"
     },
     "output_type": "display_data"
    }
   ],
   "source": [
    "plt.figure(figsize=(20,5))\n",
    "plt.subplot(121)\n",
    "plt.ylim(0, 0.2)\n",
    "plt.title(\"Absolute error on P(time = evening | cnt = 3, temperature = 1)\")\n",
    "plt.xlabel(\"Number of samples\")\n",
    "rs, = plt.semilogx(np.logspace(1, 5, num=20, dtype=\"int\"), ab_error_rs,label=\"Rejection Sampling\")\n",
    "lw, = plt.semilogx(np.logspace(1, 5, num=20, dtype=\"int\"), ab_error_lw,label=\"Likelihood Weighting\")\n",
    "plt.legend(handles=[rs,lw])\n",
    "plt.show()"
   ]
  }
 ],
 "metadata": {
  "interpreter": {
   "hash": "ba76c3563d2bf93f1d7927a5c93fc554c22f15254ee081187a0731c458c5097b"
  },
  "kernelspec": {
   "display_name": "Python 3.9.7 ('base')",
   "language": "python",
   "name": "python3"
  },
  "language_info": {
   "codemirror_mode": {
    "name": "ipython",
    "version": 3
   },
   "file_extension": ".py",
   "mimetype": "text/x-python",
   "name": "python",
   "nbconvert_exporter": "python",
   "pygments_lexer": "ipython3",
   "version": "3.8.4"
  },
  "orig_nbformat": 4
 },
 "nbformat": 4,
 "nbformat_minor": 2
}
